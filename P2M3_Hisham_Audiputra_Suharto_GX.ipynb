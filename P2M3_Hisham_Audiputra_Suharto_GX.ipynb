{
 "cells": [
  {
   "cell_type": "markdown",
   "id": "1fbebcb7-1cad-4587-82db-b4e5a85aa660",
   "metadata": {},
   "source": [
    "# Perkenalan"
   ]
  },
  {
   "cell_type": "markdown",
   "id": "2f1e6a7f-c93d-4257-b89d-67aa3365ccd9",
   "metadata": {},
   "source": [
    "\n",
    "Milestone 3\n",
    "\n",
    "Nama  : Hisham Audiputra Suharto\n",
    "Batch : CODA-006-RMT\n",
    "\n",
    "Program ini dibuat untuk melakukan automatisasi transform dan load data dari Kaggle ke MongoDB. Adapun dataset yang dipakai adalah dataset mengenai Sales Performance.\n",
    "\n"
   ]
  },
  {
   "cell_type": "markdown",
   "id": "6b63e5af-0651-4a6f-bed5-5436831dbe68",
   "metadata": {},
   "source": [
    "# Transform Data"
   ]
  },
  {
   "cell_type": "code",
   "execution_count": null,
   "id": "66c99891-7a3e-432a-adca-8c3e9b6e0045",
   "metadata": {},
   "outputs": [
    {
     "name": "stdout",
     "output_type": "stream",
     "text": [
      "Saved: Dataset/Supplement_Sales_Weekly_Expanded_Clean.csv\n"
     ]
    }
   ],
   "source": [
    "from pyspark.sql import SparkSession\n",
    "from pyspark.sql.functions import when, col, sum, row_number\n",
    "from pyspark.sql.window import Window\n",
    "from great_expectations.data_context import FileDataContext\n",
    "import shutil\n",
    "import os\n",
    "\n",
    "spark = SparkSession.builder \\\n",
    "    .appName(\"WriteToPostgres\") \\\n",
    "    .config(\"spark.jars.packages\", \"org.postgresql:postgresql:42.6.0\") \\\n",
    "    .getOrCreate()\n",
    "\n",
    "context = FileDataContext.create(project_root_dir='./')\n",
    "\n",
    "path_data = \"Dataset/Supplement_Sales_Weekly_Expanded.csv\"\n",
    "\n",
    "raw_data = spark.read.csv(path_data, header=True, inferSchema=True)\n",
    "\n",
    "def Add_column_ID(df, ordercolumnby, nameofnewcolumn):\n",
    "    # Define window\n",
    "    ordered = Window.orderBy(ordercolumnby)\n",
    "\n",
    "    # Add row number column\n",
    "    df = df.withColumn(nameofnewcolumn, row_number().over(ordered))\n",
    "\n",
    "    # Reorder columns\n",
    "    cols = [nameofnewcolumn] + [col for col in df.columns if col != nameofnewcolumn]\n",
    "    return df.select(cols)\n",
    "\n",
    "raw_data_Clean = Add_column_ID(raw_data,\"Date\",\"id\")\n",
    "\n",
    "def save_as_csv(df, output_dir, output_filename):\n",
    "    tmp_path = os.path.join(output_dir, \"_tmp_output\")\n",
    "\n",
    "    # Write to temporary directory\n",
    "    df.coalesce(1).write.mode(\"overwrite\").option(\"header\", \"true\").csv(tmp_path)\n",
    "\n",
    "    # Find the part file\n",
    "    for file in os.listdir(tmp_path):\n",
    "        if file.startswith(\"part-\") and file.endswith(\".csv\"):\n",
    "            full_temp_file_path = os.path.join(tmp_path, file)\n",
    "            break\n",
    "    else:\n",
    "        raise FileNotFoundError(\"CSV part file not found in temp folder.\")\n",
    "\n",
    "    # Move and rename the file\n",
    "    final_output_path = os.path.join(output_dir, output_filename)\n",
    "    shutil.move(full_temp_file_path, final_output_path)\n",
    "\n",
    "    # Clean up temporary folder\n",
    "    shutil.rmtree(tmp_path)\n",
    "\n",
    "    print(f\"Saved: {final_output_path}\")\n",
    "\n",
    "save_as_csv(raw_data_Clean, \"Dataset\", \"Supplement_Sales_Weekly_Expanded_Clean.csv\")"
   ]
  },
  {
   "cell_type": "code",
   "execution_count": 93,
   "id": "ae2b814f-c7f9-42c6-81ea-780a22e3f28f",
   "metadata": {},
   "outputs": [
    {
     "name": "stdout",
     "output_type": "stream",
     "text": [
      "+----------+------------------+-----------+----------+-----+-------+--------+--------------+--------+--------+\n",
      "|      Date|      Product Name|   Category|Units Sold|Price|Revenue|Discount|Units Returned|Location|Platform|\n",
      "+----------+------------------+-----------+----------+-----+-------+--------+--------------+--------+--------+\n",
      "|2020-01-06|      Whey Protein|    Protein|       143|31.98|4573.14|    0.03|             2|  Canada| Walmart|\n",
      "|2020-01-06|         Vitamin C|    Vitamin|       139|42.51|5908.89|    0.04|             0|      UK|  Amazon|\n",
      "|2020-01-06|          Fish Oil|      Omega|       161|12.91|2078.51|    0.25|             0|  Canada|  Amazon|\n",
      "|2020-01-06|      Multivitamin|    Vitamin|       140|16.07| 2249.8|    0.08|             0|  Canada| Walmart|\n",
      "|2020-01-06|       Pre-Workout|Performance|       157|35.47|5568.79|    0.25|             3|  Canada|   iHerb|\n",
      "|2020-01-06|              BCAA| Amino Acid|       154|41.19|6343.26|    0.13|             1|      UK| Walmart|\n",
      "|2020-01-06|          Creatine|Performance|       134|32.49|4353.66|    0.05|             1|      UK| Walmart|\n",
      "|2020-01-06|              Zinc|    Mineral|       147|46.68|6861.96|    0.19|             0|  Canada|  Amazon|\n",
      "|2020-01-06| Collagen Peptides|    Protein|       147|10.96|1611.12|    0.06|             2|     USA|  Amazon|\n",
      "|2020-01-06|         Magnesium|    Mineral|       134|20.76|2781.84|     0.0|             0|  Canada|  Amazon|\n",
      "|2020-01-06|       Ashwagandha|     Herbal|       181|15.49|2803.69|    0.14|             1|     USA|  Amazon|\n",
      "|2020-01-06|         Melatonin|  Sleep Aid|       164|34.41|5643.24|    0.04|             1|     USA| Walmart|\n",
      "|2020-01-06|            Biotin|    Vitamin|       159|28.79|4577.61|     0.1|             1|      UK|   iHerb|\n",
      "|2020-01-06| Green Tea Extract| Fat Burner|       143|31.88|4558.84|    0.06|             3|      UK| Walmart|\n",
      "|2020-01-06|   Iron Supplement|    Mineral|       149|42.97|6402.53|    0.22|             2|  Canada|   iHerb|\n",
      "|2020-01-06|Electrolyte Powder|  Hydration|       154|35.92|5531.68|    0.04|             2|     USA|  Amazon|\n",
      "|2020-01-13|      Whey Protein|    Protein|       150|12.08| 1812.0|    0.02|             2|      UK|  Amazon|\n",
      "|2020-01-13|         Vitamin C|    Vitamin|       128|10.61|1358.08|    0.24|             2|     USA|  Amazon|\n",
      "|2020-01-13|          Fish Oil|      Omega|       145|27.49|3986.05|    0.19|             2|     USA| Walmart|\n",
      "|2020-01-13|      Multivitamin|    Vitamin|       137|14.92|2044.04|    0.17|             2|     USA|  Amazon|\n",
      "+----------+------------------+-----------+----------+-----+-------+--------+--------------+--------+--------+\n",
      "only showing top 20 rows\n",
      "\n"
     ]
    }
   ],
   "source": [
    "raw_data.show()"
   ]
  },
  {
   "cell_type": "code",
   "execution_count": 92,
   "id": "1005d541-8265-4419-b439-6a433ac78a7f",
   "metadata": {},
   "outputs": [
    {
     "name": "stdout",
     "output_type": "stream",
     "text": [
      "root\n",
      " |-- id: integer (nullable = false)\n",
      " |-- Date: date (nullable = true)\n",
      " |-- Product Name: string (nullable = true)\n",
      " |-- Category: string (nullable = true)\n",
      " |-- Units Sold: integer (nullable = true)\n",
      " |-- Price: double (nullable = true)\n",
      " |-- Revenue: double (nullable = true)\n",
      " |-- Discount: double (nullable = true)\n",
      " |-- Units Returned: integer (nullable = true)\n",
      " |-- Location: string (nullable = true)\n",
      " |-- Platform: string (nullable = true)\n",
      "\n"
     ]
    }
   ],
   "source": [
    "raw_data_Clean.printSchema()"
   ]
  },
  {
   "cell_type": "code",
   "execution_count": 86,
   "id": "991c61b6-3d91-407b-a758-3a495edff68d",
   "metadata": {},
   "outputs": [
    {
     "name": "stdout",
     "output_type": "stream",
     "text": [
      "+----------+------------------+-----------+----------+-----+-------+--------+--------------+--------+--------+\n",
      "|      Date|      Product Name|   Category|Units Sold|Price|Revenue|Discount|Units Returned|Location|Platform|\n",
      "+----------+------------------+-----------+----------+-----+-------+--------+--------------+--------+--------+\n",
      "|2020-01-06|      Whey Protein|    Protein|       143|31.98|4573.14|    0.03|             2|  Canada| Walmart|\n",
      "|2020-01-06|         Vitamin C|    Vitamin|       139|42.51|5908.89|    0.04|             0|      UK|  Amazon|\n",
      "|2020-01-06|          Fish Oil|      Omega|       161|12.91|2078.51|    0.25|             0|  Canada|  Amazon|\n",
      "|2020-01-06|      Multivitamin|    Vitamin|       140|16.07| 2249.8|    0.08|             0|  Canada| Walmart|\n",
      "|2020-01-06|       Pre-Workout|Performance|       157|35.47|5568.79|    0.25|             3|  Canada|   iHerb|\n",
      "|2020-01-06|              BCAA| Amino Acid|       154|41.19|6343.26|    0.13|             1|      UK| Walmart|\n",
      "|2020-01-06|          Creatine|Performance|       134|32.49|4353.66|    0.05|             1|      UK| Walmart|\n",
      "|2020-01-06|              Zinc|    Mineral|       147|46.68|6861.96|    0.19|             0|  Canada|  Amazon|\n",
      "|2020-01-06| Collagen Peptides|    Protein|       147|10.96|1611.12|    0.06|             2|     USA|  Amazon|\n",
      "|2020-01-06|         Magnesium|    Mineral|       134|20.76|2781.84|     0.0|             0|  Canada|  Amazon|\n",
      "|2020-01-06|       Ashwagandha|     Herbal|       181|15.49|2803.69|    0.14|             1|     USA|  Amazon|\n",
      "|2020-01-06|         Melatonin|  Sleep Aid|       164|34.41|5643.24|    0.04|             1|     USA| Walmart|\n",
      "|2020-01-06|            Biotin|    Vitamin|       159|28.79|4577.61|     0.1|             1|      UK|   iHerb|\n",
      "|2020-01-06| Green Tea Extract| Fat Burner|       143|31.88|4558.84|    0.06|             3|      UK| Walmart|\n",
      "|2020-01-06|   Iron Supplement|    Mineral|       149|42.97|6402.53|    0.22|             2|  Canada|   iHerb|\n",
      "|2020-01-06|Electrolyte Powder|  Hydration|       154|35.92|5531.68|    0.04|             2|     USA|  Amazon|\n",
      "|2020-01-13|      Whey Protein|    Protein|       150|12.08| 1812.0|    0.02|             2|      UK|  Amazon|\n",
      "|2020-01-13|         Vitamin C|    Vitamin|       128|10.61|1358.08|    0.24|             2|     USA|  Amazon|\n",
      "|2020-01-13|          Fish Oil|      Omega|       145|27.49|3986.05|    0.19|             2|     USA| Walmart|\n",
      "|2020-01-13|      Multivitamin|    Vitamin|       137|14.92|2044.04|    0.17|             2|     USA|  Amazon|\n",
      "+----------+------------------+-----------+----------+-----+-------+--------+--------------+--------+--------+\n",
      "only showing top 20 rows\n",
      "\n"
     ]
    }
   ],
   "source": [
    "raw_data.show()"
   ]
  },
  {
   "cell_type": "markdown",
   "id": "27149e35-52c0-4b6d-9ecc-1ece0c8ef7ea",
   "metadata": {},
   "source": [
    "# Data Validation"
   ]
  },
  {
   "cell_type": "code",
   "execution_count": 16,
   "id": "f07981cb-34f1-416d-9ff1-1686ae455066",
   "metadata": {},
   "outputs": [],
   "source": [
    "# Give a name to a Datasource. This name must be unique between Datasources.\n",
    "datasource_name = 'supplement_sales'\n",
    "datasource = context.sources.add_pandas(datasource_name)\n",
    "\n",
    "# Give a name to a data asset\n",
    "asset_name = 'sales_performance'\n",
    "path_to_data = 'Dataset/Supplement_Sales_Weekly_Expanded_Clean.csv'\n",
    "asset = datasource.add_csv_asset(asset_name, filepath_or_buffer=path_to_data)\n",
    "\n",
    "# Build batch request\n",
    "batch_request = asset.build_batch_request()"
   ]
  },
  {
   "cell_type": "code",
   "execution_count": 17,
   "id": "2b51dc8d-9c57-4b2b-b3d9-ea0d3ce66f80",
   "metadata": {},
   "outputs": [
    {
     "data": {
      "application/vnd.jupyter.widget-view+json": {
       "model_id": "7d6dd3fa82284b4fa10c2ff58cb8f11a",
       "version_major": 2,
       "version_minor": 0
      },
      "text/plain": [
       "Calculating Metrics:   0%|          | 0/1 [00:00<?, ?it/s]"
      ]
     },
     "metadata": {},
     "output_type": "display_data"
    },
    {
     "data": {
      "text/html": [
       "<div>\n",
       "<style scoped>\n",
       "    .dataframe tbody tr th:only-of-type {\n",
       "        vertical-align: middle;\n",
       "    }\n",
       "\n",
       "    .dataframe tbody tr th {\n",
       "        vertical-align: top;\n",
       "    }\n",
       "\n",
       "    .dataframe thead th {\n",
       "        text-align: right;\n",
       "    }\n",
       "</style>\n",
       "<table border=\"1\" class=\"dataframe\">\n",
       "  <thead>\n",
       "    <tr style=\"text-align: right;\">\n",
       "      <th></th>\n",
       "      <th>id</th>\n",
       "      <th>Date</th>\n",
       "      <th>Product Name</th>\n",
       "      <th>Category</th>\n",
       "      <th>Units Sold</th>\n",
       "      <th>Price</th>\n",
       "      <th>Revenue</th>\n",
       "      <th>Discount</th>\n",
       "      <th>Units Returned</th>\n",
       "      <th>Location</th>\n",
       "      <th>Platform</th>\n",
       "    </tr>\n",
       "  </thead>\n",
       "  <tbody>\n",
       "    <tr>\n",
       "      <th>0</th>\n",
       "      <td>0</td>\n",
       "      <td>2020-01-06</td>\n",
       "      <td>Whey Protein</td>\n",
       "      <td>Protein</td>\n",
       "      <td>143</td>\n",
       "      <td>31.98</td>\n",
       "      <td>4573.14</td>\n",
       "      <td>0.03</td>\n",
       "      <td>2</td>\n",
       "      <td>Canada</td>\n",
       "      <td>Walmart</td>\n",
       "    </tr>\n",
       "    <tr>\n",
       "      <th>1</th>\n",
       "      <td>1</td>\n",
       "      <td>2020-01-06</td>\n",
       "      <td>Vitamin C</td>\n",
       "      <td>Vitamin</td>\n",
       "      <td>139</td>\n",
       "      <td>42.51</td>\n",
       "      <td>5908.89</td>\n",
       "      <td>0.04</td>\n",
       "      <td>0</td>\n",
       "      <td>UK</td>\n",
       "      <td>Amazon</td>\n",
       "    </tr>\n",
       "    <tr>\n",
       "      <th>2</th>\n",
       "      <td>2</td>\n",
       "      <td>2020-01-06</td>\n",
       "      <td>Fish Oil</td>\n",
       "      <td>Omega</td>\n",
       "      <td>161</td>\n",
       "      <td>12.91</td>\n",
       "      <td>2078.51</td>\n",
       "      <td>0.25</td>\n",
       "      <td>0</td>\n",
       "      <td>Canada</td>\n",
       "      <td>Amazon</td>\n",
       "    </tr>\n",
       "    <tr>\n",
       "      <th>3</th>\n",
       "      <td>3</td>\n",
       "      <td>2020-01-06</td>\n",
       "      <td>Multivitamin</td>\n",
       "      <td>Vitamin</td>\n",
       "      <td>140</td>\n",
       "      <td>16.07</td>\n",
       "      <td>2249.80</td>\n",
       "      <td>0.08</td>\n",
       "      <td>0</td>\n",
       "      <td>Canada</td>\n",
       "      <td>Walmart</td>\n",
       "    </tr>\n",
       "    <tr>\n",
       "      <th>4</th>\n",
       "      <td>4</td>\n",
       "      <td>2020-01-06</td>\n",
       "      <td>Pre-Workout</td>\n",
       "      <td>Performance</td>\n",
       "      <td>157</td>\n",
       "      <td>35.47</td>\n",
       "      <td>5568.79</td>\n",
       "      <td>0.25</td>\n",
       "      <td>3</td>\n",
       "      <td>Canada</td>\n",
       "      <td>iHerb</td>\n",
       "    </tr>\n",
       "  </tbody>\n",
       "</table>\n",
       "</div>"
      ],
      "text/plain": [
       "   id        Date  Product Name     Category  Units Sold  Price  Revenue  \\\n",
       "0   0  2020-01-06  Whey Protein      Protein         143  31.98  4573.14   \n",
       "1   1  2020-01-06     Vitamin C      Vitamin         139  42.51  5908.89   \n",
       "2   2  2020-01-06      Fish Oil        Omega         161  12.91  2078.51   \n",
       "3   3  2020-01-06  Multivitamin      Vitamin         140  16.07  2249.80   \n",
       "4   4  2020-01-06   Pre-Workout  Performance         157  35.47  5568.79   \n",
       "\n",
       "   Discount  Units Returned Location Platform  \n",
       "0      0.03               2   Canada  Walmart  \n",
       "1      0.04               0       UK   Amazon  \n",
       "2      0.25               0   Canada   Amazon  \n",
       "3      0.08               0   Canada  Walmart  \n",
       "4      0.25               3   Canada    iHerb  "
      ]
     },
     "execution_count": 17,
     "metadata": {},
     "output_type": "execute_result"
    }
   ],
   "source": [
    "# Creat an expectation suite\n",
    "expectation_suite_name = 'expectation-sales_performance_review-dataset'\n",
    "context.add_or_update_expectation_suite(expectation_suite_name)\n",
    "\n",
    "# Create a validator using above expectation suite\n",
    "validator = context.get_validator(\n",
    "    batch_request = batch_request,\n",
    "    expectation_suite_name = expectation_suite_name\n",
    ")\n",
    "\n",
    "# Check the validator\n",
    "validator.head()"
   ]
  },
  {
   "cell_type": "code",
   "execution_count": 18,
   "id": "bf164338-83e1-4f46-b45e-21b4bfce78c4",
   "metadata": {},
   "outputs": [
    {
     "data": {
      "application/vnd.jupyter.widget-view+json": {
       "model_id": "12802ea7efd3461991a9be377071be3b",
       "version_major": 2,
       "version_minor": 0
      },
      "text/plain": [
       "Calculating Metrics:   0%|          | 0/8 [00:00<?, ?it/s]"
      ]
     },
     "metadata": {},
     "output_type": "display_data"
    },
    {
     "data": {
      "text/plain": [
       "{\n",
       "  \"success\": true,\n",
       "  \"result\": {\n",
       "    \"element_count\": 4384,\n",
       "    \"unexpected_count\": 0,\n",
       "    \"unexpected_percent\": 0.0,\n",
       "    \"partial_unexpected_list\": [],\n",
       "    \"missing_count\": 0,\n",
       "    \"missing_percent\": 0.0,\n",
       "    \"unexpected_percent_total\": 0.0,\n",
       "    \"unexpected_percent_nonmissing\": 0.0\n",
       "  },\n",
       "  \"meta\": {},\n",
       "  \"exception_info\": {\n",
       "    \"raised_exception\": false,\n",
       "    \"exception_traceback\": null,\n",
       "    \"exception_message\": null\n",
       "  }\n",
       "}"
      ]
     },
     "execution_count": 18,
     "metadata": {},
     "output_type": "execute_result"
    }
   ],
   "source": [
    "validator.expect_column_values_to_be_unique('id')"
   ]
  },
  {
   "cell_type": "code",
   "execution_count": 19,
   "id": "bb78567d-59ad-4beb-9a58-9cfc8b7fe31e",
   "metadata": {},
   "outputs": [
    {
     "data": {
      "application/vnd.jupyter.widget-view+json": {
       "model_id": "6a8a2c668a0a44c9b6a9737e12aa8de0",
       "version_major": 2,
       "version_minor": 0
      },
      "text/plain": [
       "Calculating Metrics:   0%|          | 0/2 [00:00<?, ?it/s]"
      ]
     },
     "metadata": {},
     "output_type": "display_data"
    },
    {
     "data": {
      "text/plain": [
       "{\n",
       "  \"success\": true,\n",
       "  \"result\": {},\n",
       "  \"meta\": {},\n",
       "  \"exception_info\": {\n",
       "    \"raised_exception\": false,\n",
       "    \"exception_traceback\": null,\n",
       "    \"exception_message\": null\n",
       "  }\n",
       "}"
      ]
     },
     "execution_count": 19,
     "metadata": {},
     "output_type": "execute_result"
    }
   ],
   "source": [
    "validator.expect_column_to_exist(column='Revenue')"
   ]
  },
  {
   "cell_type": "code",
   "execution_count": 20,
   "id": "c5bf68eb-9e59-4c08-b723-fd930742e693",
   "metadata": {},
   "outputs": [
    {
     "data": {
      "application/vnd.jupyter.widget-view+json": {
       "model_id": "a821cb86c67d472eb946a4962bea422d",
       "version_major": 2,
       "version_minor": 0
      },
      "text/plain": [
       "Calculating Metrics:   0%|          | 0/8 [00:00<?, ?it/s]"
      ]
     },
     "metadata": {},
     "output_type": "display_data"
    },
    {
     "data": {
      "text/plain": [
       "{\n",
       "  \"success\": true,\n",
       "  \"result\": {\n",
       "    \"element_count\": 4384,\n",
       "    \"unexpected_count\": 0,\n",
       "    \"unexpected_percent\": 0.0,\n",
       "    \"partial_unexpected_list\": [],\n",
       "    \"missing_count\": 0,\n",
       "    \"missing_percent\": 0.0,\n",
       "    \"unexpected_percent_total\": 0.0,\n",
       "    \"unexpected_percent_nonmissing\": 0.0\n",
       "  },\n",
       "  \"meta\": {},\n",
       "  \"exception_info\": {\n",
       "    \"raised_exception\": false,\n",
       "    \"exception_traceback\": null,\n",
       "    \"exception_message\": null\n",
       "  }\n",
       "}"
      ]
     },
     "execution_count": 20,
     "metadata": {},
     "output_type": "execute_result"
    }
   ],
   "source": [
    "validator.expect_column_values_to_be_in_set('Platform', [\"Walmart\", \"Amazon\", \"iHerb\"])"
   ]
  },
  {
   "cell_type": "code",
   "execution_count": 22,
   "id": "7b7c510c-36a2-40cf-bf9a-e82f25f89470",
   "metadata": {},
   "outputs": [
    {
     "data": {
      "application/vnd.jupyter.widget-view+json": {
       "model_id": "123895f3d4194297bda11a6590b4bfcd",
       "version_major": 2,
       "version_minor": 0
      },
      "text/plain": [
       "Calculating Metrics:   0%|          | 0/1 [00:00<?, ?it/s]"
      ]
     },
     "metadata": {},
     "output_type": "display_data"
    },
    {
     "data": {
      "text/plain": [
       "{\n",
       "  \"success\": true,\n",
       "  \"result\": {\n",
       "    \"observed_value\": \"float64\"\n",
       "  },\n",
       "  \"meta\": {},\n",
       "  \"exception_info\": {\n",
       "    \"raised_exception\": false,\n",
       "    \"exception_traceback\": null,\n",
       "    \"exception_message\": null\n",
       "  }\n",
       "}"
      ]
     },
     "execution_count": 22,
     "metadata": {},
     "output_type": "execute_result"
    }
   ],
   "source": [
    "validator.expect_column_values_to_be_in_type_list('Price', ['integer', 'float'])"
   ]
  },
  {
   "cell_type": "code",
   "execution_count": 23,
   "id": "a53d4641-b918-410d-9278-27c8d19b4c7f",
   "metadata": {},
   "outputs": [
    {
     "data": {
      "application/vnd.jupyter.widget-view+json": {
       "model_id": "d95f03e6e46f4beb87fc855fd43a7bfc",
       "version_major": 2,
       "version_minor": 0
      },
      "text/plain": [
       "Calculating Metrics:   0%|          | 0/4 [00:00<?, ?it/s]"
      ]
     },
     "metadata": {},
     "output_type": "display_data"
    },
    {
     "data": {
      "text/plain": [
       "{\n",
       "  \"success\": true,\n",
       "  \"result\": {\n",
       "    \"observed_value\": 0.12439781021897811\n",
       "  },\n",
       "  \"meta\": {},\n",
       "  \"exception_info\": {\n",
       "    \"raised_exception\": false,\n",
       "    \"exception_traceback\": null,\n",
       "    \"exception_message\": null\n",
       "  }\n",
       "}"
      ]
     },
     "execution_count": 23,
     "metadata": {},
     "output_type": "execute_result"
    }
   ],
   "source": [
    "validator.expect_column_mean_to_be_between('Discount', 0, 1)"
   ]
  },
  {
   "cell_type": "code",
   "execution_count": 24,
   "id": "3586d98d-5182-4ed2-9572-0a2d93ead69d",
   "metadata": {},
   "outputs": [
    {
     "data": {
      "application/vnd.jupyter.widget-view+json": {
       "model_id": "6d585ff216e4473c9c658df3befc59f5",
       "version_major": 2,
       "version_minor": 0
      },
      "text/plain": [
       "Calculating Metrics:   0%|          | 0/1 [00:00<?, ?it/s]"
      ]
     },
     "metadata": {},
     "output_type": "display_data"
    },
    {
     "data": {
      "text/plain": [
       "{\n",
       "  \"success\": true,\n",
       "  \"result\": {\n",
       "    \"observed_value\": \"float64\"\n",
       "  },\n",
       "  \"meta\": {},\n",
       "  \"exception_info\": {\n",
       "    \"raised_exception\": false,\n",
       "    \"exception_traceback\": null,\n",
       "    \"exception_message\": null\n",
       "  }\n",
       "}"
      ]
     },
     "execution_count": 24,
     "metadata": {},
     "output_type": "execute_result"
    }
   ],
   "source": [
    "validator.expect_column_values_to_be_in_type_list('Revenue', ['integer', 'float'])"
   ]
  },
  {
   "cell_type": "code",
   "execution_count": 25,
   "id": "bd3541cb-477f-4257-aa6c-2b9248feafe8",
   "metadata": {},
   "outputs": [
    {
     "data": {
      "application/vnd.jupyter.widget-view+json": {
       "model_id": "eb3b25697f8047e9a7635511caf76f3b",
       "version_major": 2,
       "version_minor": 0
      },
      "text/plain": [
       "Calculating Metrics:   0%|          | 0/1 [00:00<?, ?it/s]"
      ]
     },
     "metadata": {},
     "output_type": "display_data"
    },
    {
     "data": {
      "text/plain": [
       "{\n",
       "  \"success\": true,\n",
       "  \"result\": {\n",
       "    \"observed_value\": \"float64\"\n",
       "  },\n",
       "  \"meta\": {},\n",
       "  \"exception_info\": {\n",
       "    \"raised_exception\": false,\n",
       "    \"exception_traceback\": null,\n",
       "    \"exception_message\": null\n",
       "  }\n",
       "}"
      ]
     },
     "execution_count": 25,
     "metadata": {},
     "output_type": "execute_result"
    }
   ],
   "source": [
    "validator.expect_column_values_to_be_in_type_list('Discount', ['integer', 'float'])"
   ]
  },
  {
   "cell_type": "code",
   "execution_count": 26,
   "id": "fc945203-3d66-47dc-8aad-798ef753a1f3",
   "metadata": {},
   "outputs": [],
   "source": [
    "# Create a checkpoint\n",
    "checkpoint = context.add_or_update_checkpoint(\n",
    "    name = 'checkpoint',\n",
    "    validator = validator,\n",
    ")"
   ]
  },
  {
   "cell_type": "code",
   "execution_count": 28,
   "id": "fcb9c3c6-6c20-46c6-8c63-145df622a4a9",
   "metadata": {},
   "outputs": [
    {
     "data": {
      "application/vnd.jupyter.widget-view+json": {
       "model_id": "69388391929748119273904276435e91",
       "version_major": 2,
       "version_minor": 0
      },
      "text/plain": [
       "Calculating Metrics: 0it [00:00, ?it/s]"
      ]
     },
     "metadata": {},
     "output_type": "display_data"
    }
   ],
   "source": [
    "# Run a checkpoint\n",
    "checkpoint_result = checkpoint.run()"
   ]
  },
  {
   "cell_type": "code",
   "execution_count": 62,
   "id": "6867bf18-c5ae-41ca-9bd8-5837a9c8f4d6",
   "metadata": {},
   "outputs": [
    {
     "name": "stdout",
     "output_type": "stream",
     "text": [
      "Saved: Dataset/Supplement_Sales_Weekly_Expanded_Clean.csv\n"
     ]
    }
   ],
   "source": [
    "save_as_csv(raw_data_Clean, \"Dataset\", \"Supplement_Sales_Weekly_Expanded_Clean.csv\")"
   ]
  },
  {
   "cell_type": "markdown",
   "id": "3e9a550a",
   "metadata": {},
   "source": [
    "# Google Slide"
   ]
  },
  {
   "cell_type": "markdown",
   "id": "b41e8751",
   "metadata": {},
   "source": [
    "https://docs.google.com/presentation/d/1cCizkblByNhYRDtWuIUFWLRygMQSWQ4xemJdUG3GshY/edit?usp=sharing"
   ]
  }
 ],
 "metadata": {
  "kernelspec": {
   "display_name": "Python 3 (ipykernel)",
   "language": "python",
   "name": "python3"
  },
  "language_info": {
   "codemirror_mode": {
    "name": "ipython",
    "version": 3
   },
   "file_extension": ".py",
   "mimetype": "text/x-python",
   "name": "python",
   "nbconvert_exporter": "python",
   "pygments_lexer": "ipython3",
   "version": "3.12.10"
  }
 },
 "nbformat": 4,
 "nbformat_minor": 5
}
